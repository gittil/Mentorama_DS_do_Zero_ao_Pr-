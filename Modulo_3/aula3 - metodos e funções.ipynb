{
 "cells": [
  {
   "cell_type": "markdown",
   "id": "5aca039b",
   "metadata": {},
   "source": [
    "### Funções são blocos de código reutilizáveis, ou seja, que podem ser chamadas em qualquer parte do código\n",
    "\n",
    "#### Métodos VS Funções\n",
    "\n",
    "##### Métodos: um bloco de instrução, com nome único e que nunca retorna valores\n",
    "\n",
    "##### Funções: um bloco de instrução, com nome único e que sempre retorna valor\n"
   ]
  },
  {
   "cell_type": "code",
   "execution_count": 1,
   "id": "5b8d7631",
   "metadata": {},
   "outputs": [],
   "source": [
    "#criando um método\n",
    "\n",
    "def diz_oi():\n",
    "    print(\"Oi\")"
   ]
  },
  {
   "cell_type": "code",
   "execution_count": 3,
   "id": "892e5b8b",
   "metadata": {},
   "outputs": [
    {
     "name": "stdout",
     "output_type": "stream",
     "text": [
      "Oi\n"
     ]
    }
   ],
   "source": [
    "diz_oi()"
   ]
  },
  {
   "cell_type": "code",
   "execution_count": 4,
   "id": "591ccedf",
   "metadata": {},
   "outputs": [],
   "source": [
    "def ao_quadrado(x):\n",
    "    print(\"O valor ao quadrado de \", x, \"é: \", x**2)"
   ]
  },
  {
   "cell_type": "code",
   "execution_count": 5,
   "id": "a5fabd57",
   "metadata": {},
   "outputs": [
    {
     "name": "stdout",
     "output_type": "stream",
     "text": [
      "O valor ao quadrado de  4 é:  16\n"
     ]
    }
   ],
   "source": [
    "ao_quadrado(4)"
   ]
  },
  {
   "cell_type": "code",
   "execution_count": 13,
   "id": "7d53c903",
   "metadata": {},
   "outputs": [],
   "source": [
    "#criando uma função\n",
    "\n",
    "def func_ao_quadrado(x):\n",
    "    print(\"O valor ao quadrado de \", x, \"é \", x**2)\n",
    "    return (x**2)\n"
   ]
  },
  {
   "cell_type": "code",
   "execution_count": 14,
   "id": "9ee4cf49",
   "metadata": {},
   "outputs": [
    {
     "name": "stdout",
     "output_type": "stream",
     "text": [
      "O valor ao quadrado de  5 é  25\n"
     ]
    }
   ],
   "source": [
    "a = func_ao_quadrado(5)"
   ]
  },
  {
   "cell_type": "code",
   "execution_count": 15,
   "id": "851bd2bf",
   "metadata": {},
   "outputs": [
    {
     "data": {
      "text/plain": [
       "25"
      ]
     },
     "execution_count": 15,
     "metadata": {},
     "output_type": "execute_result"
    }
   ],
   "source": [
    "a"
   ]
  },
  {
   "cell_type": "code",
   "execution_count": 16,
   "id": "05473d12",
   "metadata": {},
   "outputs": [],
   "source": [
    "def identifica_pares(x):\n",
    "    if x % 2 == 0:\n",
    "        print(x,\"é par\")"
   ]
  },
  {
   "cell_type": "code",
   "execution_count": 17,
   "id": "6bf5b4dd",
   "metadata": {},
   "outputs": [
    {
     "name": "stdout",
     "output_type": "stream",
     "text": [
      "6 é par\n"
     ]
    }
   ],
   "source": [
    "identifica_pares(6)"
   ]
  },
  {
   "cell_type": "code",
   "execution_count": 28,
   "id": "a8ee02a7",
   "metadata": {},
   "outputs": [],
   "source": [
    "def identifica_pares_lista(lista):\n",
    "    \"\"\"\\n\n",
    "    Retorna lista de numeros pares na lista de input\n",
    "    \"\"\"\n",
    "    pares = []\n",
    "    for i in lista:\n",
    "        if i % 2 == 0:\n",
    "            pares.append(i)\n",
    "        else:\n",
    "            continue\n",
    "    return pares"
   ]
  },
  {
   "cell_type": "code",
   "execution_count": 22,
   "id": "7bd4a37a",
   "metadata": {},
   "outputs": [],
   "source": [
    "lista_num = [1,2,3,4,5,6,7,8,9]"
   ]
  },
  {
   "cell_type": "code",
   "execution_count": 25,
   "id": "f537b915",
   "metadata": {},
   "outputs": [
    {
     "data": {
      "text/plain": [
       "[2, 4, 6, 8]"
      ]
     },
     "execution_count": 25,
     "metadata": {},
     "output_type": "execute_result"
    }
   ],
   "source": [
    "identifica_pares_lista(lista_num)"
   ]
  },
  {
   "cell_type": "code",
   "execution_count": 26,
   "id": "6b9826b5",
   "metadata": {},
   "outputs": [
    {
     "data": {
      "text/plain": [
       "function"
      ]
     },
     "execution_count": 26,
     "metadata": {},
     "output_type": "execute_result"
    }
   ],
   "source": [
    "type(identifica_pares_lista)"
   ]
  },
  {
   "cell_type": "code",
   "execution_count": 29,
   "id": "6e392cf0",
   "metadata": {},
   "outputs": [
    {
     "name": "stdout",
     "output_type": "stream",
     "text": [
      "Help on function identifica_pares_lista in module __main__:\n",
      "\n",
      "identifica_pares_lista(lista)\n",
      "    Retorna lista de numeros pares na lista de input\n",
      "\n"
     ]
    }
   ],
   "source": [
    "help(identifica_pares_lista)"
   ]
  },
  {
   "cell_type": "code",
   "execution_count": 30,
   "id": "a54257cb",
   "metadata": {},
   "outputs": [],
   "source": [
    "import minhas_funcs as f"
   ]
  },
  {
   "cell_type": "code",
   "execution_count": 33,
   "id": "becbcc6b",
   "metadata": {},
   "outputs": [
    {
     "name": "stdout",
     "output_type": "stream",
     "text": [
      "2 é par\n"
     ]
    }
   ],
   "source": [
    "f.identifica_pares(2)"
   ]
  },
  {
   "cell_type": "code",
   "execution_count": 34,
   "id": "61fda345",
   "metadata": {},
   "outputs": [
    {
     "data": {
      "text/plain": [
       "6"
      ]
     },
     "execution_count": 34,
     "metadata": {},
     "output_type": "execute_result"
    }
   ],
   "source": [
    "f.multiplica(2,3)"
   ]
  },
  {
   "cell_type": "code",
   "execution_count": 35,
   "id": "0504247e",
   "metadata": {},
   "outputs": [
    {
     "data": {
      "text/plain": [
       "[2, 4]"
      ]
     },
     "execution_count": 35,
     "metadata": {},
     "output_type": "execute_result"
    }
   ],
   "source": [
    "f.identifica_pares_lista([1,2,4,5])"
   ]
  }
 ],
 "metadata": {
  "kernelspec": {
   "display_name": "Python 3 (ipykernel)",
   "language": "python",
   "name": "python3"
  },
  "language_info": {
   "codemirror_mode": {
    "name": "ipython",
    "version": 3
   },
   "file_extension": ".py",
   "mimetype": "text/x-python",
   "name": "python",
   "nbconvert_exporter": "python",
   "pygments_lexer": "ipython3",
   "version": "3.9.7"
  }
 },
 "nbformat": 4,
 "nbformat_minor": 5
}
