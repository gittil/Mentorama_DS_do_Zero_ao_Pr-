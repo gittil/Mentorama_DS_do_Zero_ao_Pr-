{
 "cells": [
  {
   "cell_type": "code",
   "execution_count": 4,
   "id": "69e9c08c",
   "metadata": {},
   "outputs": [
    {
     "name": "stdout",
     "output_type": "stream",
     "text": [
      "O erro ainda é maior que 11, é:  30\n",
      "O erro ainda é maior que 11, é:  29\n",
      "O erro ainda é maior que 11, é:  28\n",
      "O erro ainda é maior que 11, é:  27\n",
      "O erro ainda é maior que 11, é:  26\n",
      "O erro ainda é maior que 11, é:  25\n",
      "O erro ainda é maior que 11, é:  24\n",
      "O erro ainda é maior que 11, é:  23\n",
      "O erro ainda é maior que 11, é:  22\n",
      "O erro ainda é maior que 11, é:  21\n",
      "O erro ainda é maior que 11, é:  20\n",
      "O erro ainda é maior que 11, é:  19\n",
      "O erro ainda é maior que 11, é:  18\n",
      "O erro ainda é maior que 11, é:  17\n",
      "O erro ainda é maior que 11, é:  16\n",
      "O erro ainda é maior que 11, é:  15\n",
      "O erro ainda é maior que 11, é:  14\n",
      "O erro ainda é maior que 11, é:  13\n",
      "O erro ainda é maior que 11, é:  12\n",
      "\n",
      " fim do while com erro igual a:  11\n"
     ]
    }
   ],
   "source": [
    "erro = 30\n",
    "\n",
    "while erro > 11:\n",
    "    print(\"O erro ainda é maior que 11, é: \", erro)\n",
    "    erro = erro - 1\n",
    "    \n",
    "print(\"\\n fim do while com erro igual a: \", erro)"
   ]
  }
 ],
 "metadata": {
  "kernelspec": {
   "display_name": "Python 3 (ipykernel)",
   "language": "python",
   "name": "python3"
  },
  "language_info": {
   "codemirror_mode": {
    "name": "ipython",
    "version": 3
   },
   "file_extension": ".py",
   "mimetype": "text/x-python",
   "name": "python",
   "nbconvert_exporter": "python",
   "pygments_lexer": "ipython3",
   "version": "3.9.7"
  }
 },
 "nbformat": 4,
 "nbformat_minor": 5
}
