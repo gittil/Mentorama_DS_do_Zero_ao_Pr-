{
 "cells": [
  {
   "cell_type": "code",
   "execution_count": 1,
   "id": "3134e9ca",
   "metadata": {},
   "outputs": [
    {
     "name": "stdout",
     "output_type": "stream",
     "text": [
      "9\n",
      "9.5\n",
      "8\n",
      "7\n",
      "5.5\n",
      "4\n"
     ]
    }
   ],
   "source": [
    "# Utilizamos o loop for quando queremos executar um bloco de código um número fixo de vezes\n",
    "\n",
    "notas = [9,9.5,8,7,5.5,4]\n",
    "\n",
    "for nota in notas:\n",
    "    print(nota)"
   ]
  },
  {
   "cell_type": "code",
   "execution_count": 2,
   "id": "0d0bfd76",
   "metadata": {},
   "outputs": [
    {
     "name": "stdout",
     "output_type": "stream",
     "text": [
      "1\n",
      "2\n",
      "3\n",
      "4\n",
      "5\n"
     ]
    }
   ],
   "source": [
    "# Utilizamos o loop while quando queremos repetir um bloco de código enquanto uma condição é verdadeira\n",
    "\n",
    "i = 1\n",
    "while i<6:\n",
    "    print(i)\n",
    "    i+=1"
   ]
  },
  {
   "cell_type": "code",
   "execution_count": 4,
   "id": "fe8b3c5f",
   "metadata": {},
   "outputs": [
    {
     "name": "stdout",
     "output_type": "stream",
     "text": [
      "1\n",
      "3\n",
      "5\n",
      "7\n",
      "9\n"
     ]
    }
   ],
   "source": [
    "for i in range(1,10,2): #conta de 1 a 10, pulando de 2 em 2\n",
    "    print(i)"
   ]
  },
  {
   "cell_type": "code",
   "execution_count": 5,
   "id": "6c9263a3",
   "metadata": {},
   "outputs": [
    {
     "name": "stdout",
     "output_type": "stream",
     "text": [
      "P\n",
      "Y\n",
      "T\n",
      "H\n",
      "O\n",
      "N\n"
     ]
    }
   ],
   "source": [
    "for letra in \"PYTHON\":\n",
    "    print(letra)"
   ]
  },
  {
   "cell_type": "code",
   "execution_count": 6,
   "id": "3f544082",
   "metadata": {},
   "outputs": [
    {
     "name": "stdout",
     "output_type": "stream",
     "text": [
      "7\n"
     ]
    }
   ],
   "source": [
    "dic_aluno_nota = {\"Maria\":7,\"Joao\":9,\"Pedro\":4,\"Arthur\":10}\n",
    "print(dic_aluno_nota[\"Maria\"]) \n"
   ]
  },
  {
   "cell_type": "code",
   "execution_count": 9,
   "id": "0239c0e4",
   "metadata": {},
   "outputs": [
    {
     "name": "stdout",
     "output_type": "stream",
     "text": [
      "Maria : 7\n",
      "Joao : 9\n",
      "Pedro : 4\n",
      "Arthur : 10\n"
     ]
    }
   ],
   "source": [
    "for aluno,nota in dic_aluno_nota.items():\n",
    "    print(aluno, \":\", nota)"
   ]
  },
  {
   "cell_type": "code",
   "execution_count": 12,
   "id": "445e6a1d",
   "metadata": {},
   "outputs": [],
   "source": [
    "alunos_reprovados = {}\n",
    "alunos_aprovados ={}\n",
    "\n",
    "for aluno, nota in dic_aluno_nota.items():\n",
    "    if (nota < 7):\n",
    "        alunos_reprovados.update({aluno:nota})\n",
    "    else:\n",
    "        alunos_aprovados.update({aluno:nota})"
   ]
  },
  {
   "cell_type": "code",
   "execution_count": 13,
   "id": "2df91fa8",
   "metadata": {},
   "outputs": [
    {
     "data": {
      "text/plain": [
       "{'Maria': 7, 'Joao': 9, 'Arthur': 10}"
      ]
     },
     "execution_count": 13,
     "metadata": {},
     "output_type": "execute_result"
    }
   ],
   "source": [
    "alunos_aprovados"
   ]
  },
  {
   "cell_type": "code",
   "execution_count": 14,
   "id": "4b05edee",
   "metadata": {},
   "outputs": [
    {
     "data": {
      "text/plain": [
       "{'Pedro': 4}"
      ]
     },
     "execution_count": 14,
     "metadata": {},
     "output_type": "execute_result"
    }
   ],
   "source": [
    "alunos_reprovados"
   ]
  },
  {
   "cell_type": "markdown",
   "id": "4ec47492",
   "metadata": {},
   "source": [
    "#### Alterar a execução do loop"
   ]
  },
  {
   "cell_type": "code",
   "execution_count": 18,
   "id": "f0c14faa",
   "metadata": {},
   "outputs": [
    {
     "name": "stdout",
     "output_type": "stream",
     "text": [
      "i =  1  vezes j =  1 é:  1\n",
      "i =  3  vezes j =  2 é:  6\n",
      "i =  5  vezes j =  3 é:  15\n",
      "i =  7  vezes j =  4 é:  28\n",
      "i =  9  vezes j =  5 é:  45\n",
      "i =  11  vezes j =  6 é:  66\n",
      "i =  13  vezes j =  7 é:  91\n",
      "Aqui o loop parou e o próximo i * j é:  120\n"
     ]
    }
   ],
   "source": [
    "#break \n",
    "\n",
    "l1 = range(1,50,2)\n",
    "l2 = range(1,50,1)\n",
    "\n",
    "for i,j in zip (l1,l2):\n",
    "    if i*j > 100:\n",
    "        break\n",
    "    else:\n",
    "        print(\"i = \",i,\" vezes j = \", j, \"é: \", i*j)\n",
    "print(\"Aqui o loop parou e o próximo i * j é: \", i*j)\n"
   ]
  }
 ],
 "metadata": {
  "kernelspec": {
   "display_name": "Python 3 (ipykernel)",
   "language": "python",
   "name": "python3"
  },
  "language_info": {
   "codemirror_mode": {
    "name": "ipython",
    "version": 3
   },
   "file_extension": ".py",
   "mimetype": "text/x-python",
   "name": "python",
   "nbconvert_exporter": "python",
   "pygments_lexer": "ipython3",
   "version": "3.9.7"
  }
 },
 "nbformat": 4,
 "nbformat_minor": 5
}
