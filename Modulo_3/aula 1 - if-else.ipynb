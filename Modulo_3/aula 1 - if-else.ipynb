{
 "cells": [
  {
   "cell_type": "code",
   "execution_count": 3,
   "id": "200ac441",
   "metadata": {},
   "outputs": [
    {
     "name": "stdout",
     "output_type": "stream",
     "text": [
      "Qual a sua idade? 39\n",
      "Idade digitada:  39\n",
      "Você já pode tirar a carteira de motorista\n"
     ]
    }
   ],
   "source": [
    "idade = int(input(\"Qual a sua idade? \"))\n",
    "\n",
    "if (idade >= 18):\n",
    "    print(\"Idade digitada: \", idade)\n",
    "    print(\"Você já pode tirar a carteira de motorista\")"
   ]
  },
  {
   "cell_type": "code",
   "execution_count": 6,
   "id": "2ce0dafe",
   "metadata": {},
   "outputs": [
    {
     "name": "stdout",
     "output_type": "stream",
     "text": [
      "Qual a sua idade? 39\n",
      "Você enxerga bem? sim\n",
      "Você já pode tirar a carteira de motorista\n"
     ]
    }
   ],
   "source": [
    "idade = int(input(\"Qual a sua idade? \"))\n",
    "visao = str(input(\"Você enxerga bem? \"))\n",
    "\n",
    "if (idade >= 18 and visao == \"sim\"):\n",
    "    print(\"Você já pode tirar a carteira de motorista\")"
   ]
  },
  {
   "cell_type": "code",
   "execution_count": 9,
   "id": "198642ea",
   "metadata": {},
   "outputs": [
    {
     "name": "stdout",
     "output_type": "stream",
     "text": [
      "Qual produto você procura? arroz\n",
      "Temos o produto em estoque:  arroz\n"
     ]
    }
   ],
   "source": [
    "produtos_disponiveis = [\"arroz\",\"feijão\",\"farinha\",\"banana\",\"leite\"]\n",
    "produto = str(input(\"Qual produto você procura? \"))\n",
    "\n",
    "if produto in produtos_disponiveis:\n",
    "    print(\"Temos o produto em estoque: \", produto)"
   ]
  },
  {
   "cell_type": "code",
   "execution_count": 12,
   "id": "2e2ef066",
   "metadata": {},
   "outputs": [
    {
     "name": "stdout",
     "output_type": "stream",
     "text": [
      "Qual o valor do saque? 56\n",
      "O valor de  56  foi sacado com sucesso\n",
      "Seu saldo é de:  944\n"
     ]
    }
   ],
   "source": [
    "saldo = 1000\n",
    "valor_saque = int(input(\"Qual o valor do saque? \"))\n",
    "\n",
    "if saldo >= valor_saque:\n",
    "    print(\"O valor de \", valor_saque, \" foi sacado com sucesso\")\n",
    "    saldo = saldo - valor_saque\n",
    "    print (\"Seu saldo é de: \", saldo)"
   ]
  },
  {
   "cell_type": "code",
   "execution_count": 15,
   "id": "cfd45e90",
   "metadata": {},
   "outputs": [
    {
     "name": "stdout",
     "output_type": "stream",
     "text": [
      "você foi reprovado\n"
     ]
    }
   ],
   "source": [
    "nota = 6\n",
    "\n",
    "\n",
    "if nota>=7:\n",
    "    print(\"Você foi aprovado\")\n",
    "else:\n",
    "    print(\"você foi reprovado\")"
   ]
  },
  {
   "cell_type": "code",
   "execution_count": 17,
   "id": "39847da0",
   "metadata": {},
   "outputs": [
    {
     "name": "stdout",
     "output_type": "stream",
     "text": [
      "Você foi reprovado\n"
     ]
    }
   ],
   "source": [
    "nota = 9\n",
    "frequencia = 69\n",
    "\n",
    "if (nota >= 9 and frequencia >= 70):\n",
    "    print(\"Você foi aprovado\")\n",
    "else:\n",
    "    print(\"Você foi reprovado\")"
   ]
  },
  {
   "cell_type": "code",
   "execution_count": 25,
   "id": "d7fc1833",
   "metadata": {},
   "outputs": [
    {
     "name": "stdout",
     "output_type": "stream",
     "text": [
      "exame\n"
     ]
    }
   ],
   "source": [
    "nota = 6\n",
    "frequencia = 70\n",
    "\n",
    "if (nota >= 7):\n",
    "    print(\"Aprovado\")\n",
    "elif (nota >= 6 and frequencia >= 70):\n",
    "    print(\"exame\")\n",
    "else:\n",
    "    print(\"Reprovado\")"
   ]
  }
 ],
 "metadata": {
  "kernelspec": {
   "display_name": "Python 3 (ipykernel)",
   "language": "python",
   "name": "python3"
  },
  "language_info": {
   "codemirror_mode": {
    "name": "ipython",
    "version": 3
   },
   "file_extension": ".py",
   "mimetype": "text/x-python",
   "name": "python",
   "nbconvert_exporter": "python",
   "pygments_lexer": "ipython3",
   "version": "3.9.7"
  }
 },
 "nbformat": 4,
 "nbformat_minor": 5
}
