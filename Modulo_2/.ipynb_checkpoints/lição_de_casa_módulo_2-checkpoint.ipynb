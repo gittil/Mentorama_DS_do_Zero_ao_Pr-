{
 "cells": [
  {
   "cell_type": "markdown",
   "metadata": {
    "id": "FpO8pYeUoITd"
   },
   "source": [
    "#Exercício 1:\n",
    " "
   ]
  },
  {
   "cell_type": "markdown",
   "metadata": {
    "id": "nfGyw0MPsmiW"
   },
   "source": [
    "Escreva duas variáveis do tipo STRING e escreva uma expressão lógica que verifica se essas variáveis são iguais. \n"
   ]
  },
  {
   "cell_type": "code",
   "execution_count": 1,
   "metadata": {
    "executionInfo": {
     "elapsed": 5,
     "status": "ok",
     "timestamp": 1633373276974,
     "user": {
      "displayName": "Douglas Littig",
      "photoUrl": "https://lh3.googleusercontent.com/a-/AOh14GhyNYF4dKUFZyRZw596xgvlq0jJUcNLWgSD5V_uYrY=s64",
      "userId": "15827974314422322636"
     },
     "user_tz": 180
    },
    "id": "IIxNFkZaoBin"
   },
   "outputs": [],
   "source": [
    "string1 = \"python\""
   ]
  },
  {
   "cell_type": "code",
   "execution_count": 2,
   "metadata": {
    "executionInfo": {
     "elapsed": 228,
     "status": "ok",
     "timestamp": 1633373279969,
     "user": {
      "displayName": "Douglas Littig",
      "photoUrl": "https://lh3.googleusercontent.com/a-/AOh14GhyNYF4dKUFZyRZw596xgvlq0jJUcNLWgSD5V_uYrY=s64",
      "userId": "15827974314422322636"
     },
     "user_tz": 180
    },
    "id": "XrguYfBEojCp"
   },
   "outputs": [],
   "source": [
    "string2 = \"SQL\""
   ]
  },
  {
   "cell_type": "code",
   "execution_count": 3,
   "metadata": {
    "colab": {
     "base_uri": "https://localhost:8080/"
    },
    "executionInfo": {
     "elapsed": 253,
     "status": "ok",
     "timestamp": 1633374162981,
     "user": {
      "displayName": "Douglas Littig",
      "photoUrl": "https://lh3.googleusercontent.com/a-/AOh14GhyNYF4dKUFZyRZw596xgvlq0jJUcNLWgSD5V_uYrY=s64",
      "userId": "15827974314422322636"
     },
     "user_tz": 180
    },
    "id": "4sK4Uoo_olR0",
    "outputId": "e6203b15-103d-4e0b-e649-e22e388cd5d5"
   },
   "outputs": [
    {
     "data": {
      "text/plain": [
       "False"
      ]
     },
     "execution_count": 3,
     "metadata": {},
     "output_type": "execute_result"
    }
   ],
   "source": [
    "string1 == string2"
   ]
  },
  {
   "cell_type": "markdown",
   "metadata": {
    "id": "U8TIK7OesIxq"
   },
   "source": [
    "Além disso, defina variáveis numéricas e calcule qual o resto da divisão de uma pela outra"
   ]
  },
  {
   "cell_type": "code",
   "execution_count": 4,
   "metadata": {
    "executionInfo": {
     "elapsed": 244,
     "status": "ok",
     "timestamp": 1633374232236,
     "user": {
      "displayName": "Douglas Littig",
      "photoUrl": "https://lh3.googleusercontent.com/a-/AOh14GhyNYF4dKUFZyRZw596xgvlq0jJUcNLWgSD5V_uYrY=s64",
      "userId": "15827974314422322636"
     },
     "user_tz": 180
    },
    "id": "XipSWBOdr8yN"
   },
   "outputs": [],
   "source": [
    "x = 5\n",
    "y = 7"
   ]
  },
  {
   "cell_type": "code",
   "execution_count": 6,
   "metadata": {
    "colab": {
     "base_uri": "https://localhost:8080/"
    },
    "executionInfo": {
     "elapsed": 251,
     "status": "ok",
     "timestamp": 1633374289076,
     "user": {
      "displayName": "Douglas Littig",
      "photoUrl": "https://lh3.googleusercontent.com/a-/AOh14GhyNYF4dKUFZyRZw596xgvlq0jJUcNLWgSD5V_uYrY=s64",
      "userId": "15827974314422322636"
     },
     "user_tz": 180
    },
    "id": "fDQfTmagsNw6",
    "outputId": "68e07f13-9abf-41de-ff37-14035a777cb3"
   },
   "outputs": [
    {
     "name": "stdout",
     "output_type": "stream",
     "text": [
      "2\n"
     ]
    }
   ],
   "source": [
    "print(y%x)"
   ]
  },
  {
   "cell_type": "markdown",
   "metadata": {
    "id": "XVlR6Xfdsean"
   },
   "source": [
    "#Exercício 2"
   ]
  },
  {
   "cell_type": "markdown",
   "metadata": {
    "id": "7t44nzzXsuWb"
   },
   "source": [
    "Crie uma lista de STRINGs, que possua elementos repetidos e posteriormente converte essa lista para um conjunto. Confira o tamanho das listas antes e depois da conversão"
   ]
  },
  {
   "cell_type": "code",
   "execution_count": 18,
   "metadata": {
    "executionInfo": {
     "elapsed": 246,
     "status": "ok",
     "timestamp": 1633375813512,
     "user": {
      "displayName": "Douglas Littig",
      "photoUrl": "https://lh3.googleusercontent.com/a-/AOh14GhyNYF4dKUFZyRZw596xgvlq0jJUcNLWgSD5V_uYrY=s64",
      "userId": "15827974314422322636"
     },
     "user_tz": 180
    },
    "id": "SBFhlR4GsjRV"
   },
   "outputs": [],
   "source": [
    "lista_strings = [\"Python\", \"Data Science\", \"Mentorama\", \"Python\", \"SQL\", \"Mentorama\"]"
   ]
  },
  {
   "cell_type": "code",
   "execution_count": 19,
   "metadata": {
    "colab": {
     "base_uri": "https://localhost:8080/"
    },
    "executionInfo": {
     "elapsed": 5,
     "status": "ok",
     "timestamp": 1633375815351,
     "user": {
      "displayName": "Douglas Littig",
      "photoUrl": "https://lh3.googleusercontent.com/a-/AOh14GhyNYF4dKUFZyRZw596xgvlq0jJUcNLWgSD5V_uYrY=s64",
      "userId": "15827974314422322636"
     },
     "user_tz": 180
    },
    "id": "cPHZul4StI0q",
    "outputId": "70b77e9d-4c27-45f7-e563-bad0360c6ae8"
   },
   "outputs": [
    {
     "name": "stdout",
     "output_type": "stream",
     "text": [
      "<class 'list'>\n",
      "['Python', 'Data Science', 'Mentorama', 'Python', 'SQL', 'Mentorama']\n",
      "6\n"
     ]
    }
   ],
   "source": [
    "print(type(lista_strings))\n",
    "print(lista_strings) \n",
    "print(len(lista_strings))"
   ]
  },
  {
   "cell_type": "code",
   "execution_count": 20,
   "metadata": {
    "executionInfo": {
     "elapsed": 252,
     "status": "ok",
     "timestamp": 1633375822683,
     "user": {
      "displayName": "Douglas Littig",
      "photoUrl": "https://lh3.googleusercontent.com/a-/AOh14GhyNYF4dKUFZyRZw596xgvlq0jJUcNLWgSD5V_uYrY=s64",
      "userId": "15827974314422322636"
     },
     "user_tz": 180
    },
    "id": "6AFgizg9tKRv"
   },
   "outputs": [],
   "source": [
    "#Conversão da lista em um conjunto\n",
    "lista_strings = set(lista_strings)"
   ]
  },
  {
   "cell_type": "code",
   "execution_count": 21,
   "metadata": {
    "colab": {
     "base_uri": "https://localhost:8080/"
    },
    "executionInfo": {
     "elapsed": 244,
     "status": "ok",
     "timestamp": 1633375846993,
     "user": {
      "displayName": "Douglas Littig",
      "photoUrl": "https://lh3.googleusercontent.com/a-/AOh14GhyNYF4dKUFZyRZw596xgvlq0jJUcNLWgSD5V_uYrY=s64",
      "userId": "15827974314422322636"
     },
     "user_tz": 180
    },
    "id": "kw-he89yupo4",
    "outputId": "37c83ad1-b849-47a5-972f-cfe90dffd992"
   },
   "outputs": [
    {
     "name": "stdout",
     "output_type": "stream",
     "text": [
      "<class 'set'>\n",
      "{'Data Science', 'Mentorama', 'Python', 'SQL'}\n",
      "4\n"
     ]
    }
   ],
   "source": [
    "print(type(lista_strings))\n",
    "print(lista_strings) \n",
    "print(len(lista_strings))"
   ]
  },
  {
   "cell_type": "markdown",
   "metadata": {
    "id": "MwvX9Z2auvaD"
   },
   "source": [
    "#Exercício 3"
   ]
  },
  {
   "cell_type": "markdown",
   "metadata": {
    "id": "RG6FBh-vyoRq"
   },
   "source": [
    "Crie um dicionário com 3 itens, onde as chaves são os clientes de uma determinada loja e os valores são listas contendo produtos que esses clientes já consumiram. As listas podem ter tamanhos diferentes:"
   ]
  },
  {
   "cell_type": "code",
   "execution_count": 22,
   "metadata": {
    "executionInfo": {
     "elapsed": 456,
     "status": "ok",
     "timestamp": 1633376221285,
     "user": {
      "displayName": "Douglas Littig",
      "photoUrl": "https://lh3.googleusercontent.com/a-/AOh14GhyNYF4dKUFZyRZw596xgvlq0jJUcNLWgSD5V_uYrY=s64",
      "userId": "15827974314422322636"
     },
     "user_tz": 180
    },
    "id": "5CHAKuI0uw_b"
   },
   "outputs": [],
   "source": [
    "dict_clients_itens = {\"João\":[\"pão\",\"batata\",\"cerveja\"], \"Maria\":[\"chocolate\",\"batata\"], \"José\":[\"arroz\",\"feijão\", \"ervilha\"]}"
   ]
  },
  {
   "cell_type": "code",
   "execution_count": 26,
   "metadata": {
    "colab": {
     "base_uri": "https://localhost:8080/"
    },
    "executionInfo": {
     "elapsed": 254,
     "status": "ok",
     "timestamp": 1633376273190,
     "user": {
      "displayName": "Douglas Littig",
      "photoUrl": "https://lh3.googleusercontent.com/a-/AOh14GhyNYF4dKUFZyRZw596xgvlq0jJUcNLWgSD5V_uYrY=s64",
      "userId": "15827974314422322636"
     },
     "user_tz": 180
    },
    "id": "TGwgcgVvz-Te",
    "outputId": "96700689-afef-4a8a-dae5-23421f3aeb81"
   },
   "outputs": [
    {
     "data": {
      "text/plain": [
       "{'José': ['arroz', 'feijão', 'ervilha'],\n",
       " 'João': ['pão', 'batata', 'cerveja'],\n",
       " 'Maria': ['chocolate', 'batata']}"
      ]
     },
     "execution_count": 26,
     "metadata": {},
     "output_type": "execute_result"
    }
   ],
   "source": [
    "dict_clients_itens"
   ]
  },
  {
   "cell_type": "code",
   "execution_count": 25,
   "metadata": {
    "colab": {
     "base_uri": "https://localhost:8080/"
    },
    "executionInfo": {
     "elapsed": 240,
     "status": "ok",
     "timestamp": 1633376257401,
     "user": {
      "displayName": "Douglas Littig",
      "photoUrl": "https://lh3.googleusercontent.com/a-/AOh14GhyNYF4dKUFZyRZw596xgvlq0jJUcNLWgSD5V_uYrY=s64",
      "userId": "15827974314422322636"
     },
     "user_tz": 180
    },
    "id": "6AezeqIbz6Bz",
    "outputId": "f8261593-bc09-4bea-ee54-2a5f3fb4c928"
   },
   "outputs": [
    {
     "data": {
      "text/plain": [
       "dict"
      ]
     },
     "execution_count": 25,
     "metadata": {},
     "output_type": "execute_result"
    }
   ],
   "source": [
    "type(dict_clients_itens)"
   ]
  },
  {
   "cell_type": "code",
   "execution_count": 24,
   "metadata": {
    "colab": {
     "base_uri": "https://localhost:8080/"
    },
    "executionInfo": {
     "elapsed": 248,
     "status": "ok",
     "timestamp": 1633376245818,
     "user": {
      "displayName": "Douglas Littig",
      "photoUrl": "https://lh3.googleusercontent.com/a-/AOh14GhyNYF4dKUFZyRZw596xgvlq0jJUcNLWgSD5V_uYrY=s64",
      "userId": "15827974314422322636"
     },
     "user_tz": 180
    },
    "id": "ZFZRmahlzzUp",
    "outputId": "ef2423d9-d2b6-4048-f36a-27076d5a76dc"
   },
   "outputs": [
    {
     "data": {
      "text/plain": [
       "3"
      ]
     },
     "execution_count": 24,
     "metadata": {},
     "output_type": "execute_result"
    }
   ],
   "source": [
    "len(dict_clients_itens)"
   ]
  }
 ],
 "metadata": {
  "colab": {
   "authorship_tag": "ABX9TyM92IqWYlvA1One+W0NOM+d",
   "collapsed_sections": [
    "FpO8pYeUoITd",
    "XVlR6Xfdsean",
    "MwvX9Z2auvaD"
   ],
   "name": "lição_de_casa_módulo_2.ipynb",
   "provenance": []
  },
  "kernelspec": {
   "display_name": "Python 3",
   "language": "python",
   "name": "python3"
  },
  "language_info": {
   "codemirror_mode": {
    "name": "ipython",
    "version": 3
   },
   "file_extension": ".py",
   "mimetype": "text/x-python",
   "name": "python",
   "nbconvert_exporter": "python",
   "pygments_lexer": "ipython3",
   "version": "3.8.8"
  }
 },
 "nbformat": 4,
 "nbformat_minor": 1
}
